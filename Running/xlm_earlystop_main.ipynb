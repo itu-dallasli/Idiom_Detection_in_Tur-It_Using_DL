{
 "cells": [
  {
   "cell_type": "code",
   "execution_count": 1,
   "metadata": {
    "colab": {
     "base_uri": "https://localhost:8080/"
    },
    "executionInfo": {
     "elapsed": 17503,
     "status": "ok",
     "timestamp": 1747581644343,
     "user": {
      "displayName": "Ahmet Enes Topçu",
      "userId": "09118054627552583776"
     },
     "user_tz": -180
    },
    "id": "dHxIsp_UEeoK",
    "outputId": "6a8a1d8e-4e37-400e-9915-2005ff5ab77d",
    "vscode": {
     "languageId": "plaintext"
    }
   },
   "outputs": [
    {
     "name": "stdout",
     "output_type": "stream",
     "text": [
      "Mounted at /content/drive\n"
     ]
    }
   ],
   "source": [
    "# Mount Google Drive\n",
    "from google.colab import drive\n",
    "drive.mount('/content/drive')\n"
   ]
  },
  {
   "cell_type": "code",
   "execution_count": 2,
   "metadata": {
    "executionInfo": {
     "elapsed": 5366,
     "status": "ok",
     "timestamp": 1747581651612,
     "user": {
      "displayName": "Ahmet Enes Topçu",
      "userId": "09118054627552583776"
     },
     "user_tz": -180
    },
    "id": "qlLZDUKZEeoP",
    "vscode": {
     "languageId": "plaintext"
    }
   },
   "outputs": [],
   "source": [
    "import os\n",
    "import sys\n",
    "import torch\n",
    "import pandas as pd\n",
    "from transformers import XLMRobertaTokenizer\n",
    "from tqdm import tqdm\n",
    "import numpy as np\n",
    "import matplotlib.pyplot as plt\n",
    "from transformers import get_scheduler"
   ]
  },
  {
   "cell_type": "code",
   "execution_count": 3,
   "metadata": {
    "colab": {
     "base_uri": "https://localhost:8080/"
    },
    "executionInfo": {
     "elapsed": 2635,
     "status": "ok",
     "timestamp": 1747581654245,
     "user": {
      "displayName": "Ahmet Enes Topçu",
      "userId": "09118054627552583776"
     },
     "user_tz": -180
    },
    "id": "3Tw3fjouGHjK",
    "outputId": "4fed4efd-75d2-438f-e996-6478e6f5fd5d"
   },
   "outputs": [
    {
     "name": "stdout",
     "output_type": "stream",
     "text": [
      "Collecting pytorch-crf\n",
      "  Downloading pytorch_crf-0.7.2-py3-none-any.whl.metadata (2.4 kB)\n",
      "Downloading pytorch_crf-0.7.2-py3-none-any.whl (9.5 kB)\n",
      "Installing collected packages: pytorch-crf\n",
      "Successfully installed pytorch-crf-0.7.2\n"
     ]
    }
   ],
   "source": [
    "!pip install pytorch-crf"
   ]
  },
  {
   "cell_type": "code",
   "execution_count": null,
   "metadata": {
    "executionInfo": {
     "elapsed": 12965,
     "status": "ok",
     "timestamp": 1747581668290,
     "user": {
      "displayName": "Ahmet Enes Topçu",
      "userId": "09118054627552583776"
     },
     "user_tz": -180
    },
    "id": "-R-TB89fEeoQ",
    "vscode": {
     "languageId": "plaintext"
    }
   },
   "outputs": [],
   "source": [
    "# Add the project root to Python path for imports\n",
    "PROJECT_DIR = \"/content/drive/MyDrive/Colab Notebooks/nlp_f1_cleaned\"\n",
    "sys.path.append(PROJECT_DIR)\n",
    "\n",
    "from dataset.dataset_es import get_dataloaders\n",
    "from Models.xlm_roberta_improved import XLMRobertaForIdiomDetection, predict_idioms, evaluate\n",
    "\n",
    "# Define paths\n",
    "DATA_DIR = os.path.join(PROJECT_DIR, \"dataset\")\n",
    "MODELS_DIR = os.path.join(PROJECT_DIR, \"Models\")\n",
    "OUTPUT_DIR = os.path.join(PROJECT_DIR, \"Submissions\")\n",
    "\n",
    "# Create output directory if it doesn't exist\n",
    "os.makedirs(OUTPUT_DIR, exist_ok=True)\n",
    "os.makedirs(os.path.join(PROJECT_DIR, \"Models/saved_models\"), exist_ok=True)\n",
    "os.makedirs(os.path.join(PROJECT_DIR, \"Models/results\"), exist_ok=True)"
   ]
  },
  {
   "cell_type": "code",
   "execution_count": 5,
   "metadata": {
    "executionInfo": {
     "elapsed": 36,
     "status": "ok",
     "timestamp": 1747581671430,
     "user": {
      "displayName": "Ahmet Enes Topçu",
      "userId": "09118054627552583776"
     },
     "user_tz": -180
    },
    "id": "0nTcLdb2EeoQ",
    "vscode": {
     "languageId": "plaintext"
    }
   },
   "outputs": [],
   "source": [
    "def run_organized_experiment(batch_size=16, lr=1e-5, max_length=128, epochs=3):\n",
    "    experiment_name = f\"xlm_bs{batch_size}_lr{lr}_ml{max_length}_ep{epochs}\"\n",
    "    model_save_path = os.path.join(PROJECT_DIR, \"Models/saved_models\", f\"{experiment_name}.pt\")\n",
    "    results_save_path = os.path.join(PROJECT_DIR, \"Models/results\", f\"{experiment_name}_metrics.csv\")\n",
    "    fig_save_path = os.path.join(PROJECT_DIR, \"Models/results\", f\"{experiment_name}_plot.png\")\n",
    "\n",
    "    # Initialize results\n",
    "    results = {\n",
    "        'epoch': [],\n",
    "        'train_loss': [],\n",
    "        'val_loss': [],\n",
    "        'precision': [],\n",
    "        'recall': [],\n",
    "        'f1': []\n",
    "    }\n",
    "\n",
    "    # Initialize tokenizer\n",
    "    tokenizer = XLMRobertaTokenizer.from_pretrained('xlm-roberta-large')\n",
    "\n",
    "    print(f\"\\nRunning experiment: {experiment_name}\")\n",
    "    print(\"Loading data...\")\n",
    "\n",
    "    # Get data loaders from dataset.py\n",
    "    train_loader, val_loader, _ = get_dataloaders(\n",
    "        train_path=os.path.join(DATA_DIR, 'train.csv'),\n",
    "        val_path=os.path.join(DATA_DIR, 'eval.csv'),\n",
    "        batch_size=batch_size,\n",
    "        max_length=max_length,\n",
    "        tokenizer=tokenizer\n",
    "    )\n",
    "\n",
    "    # Initialize model\n",
    "    device = torch.device('cuda' if torch.cuda.is_available() else 'cpu')\n",
    "    model = XLMRobertaForIdiomDetection()\n",
    "    model.to(device)\n",
    "\n",
    "    # Optimizer and scheduler\n",
    "    optimizer = torch.optim.AdamW(model.parameters(), lr=lr, weight_decay=0.01)\n",
    "    total_steps = len(train_loader) * epochs\n",
    "    scheduler = get_scheduler(\n",
    "        \"linear\",\n",
    "        optimizer=optimizer,\n",
    "        num_warmup_steps=int(0.1 * total_steps),\n",
    "        num_training_steps=total_steps\n",
    "    )\n",
    "\n",
    "    best_f1 = 0.0\n",
    "    best_epoch = 0\n",
    "\n",
    "    # Added these line to control earlystopping\n",
    "    patience = 2\n",
    "    no_improve_epochs = 0\n",
    "\n",
    "    # Training loop\n",
    "    for epoch in range(epochs):\n",
    "        model.train()\n",
    "        train_loss = 0.0\n",
    "        train_batches = 0\n",
    "\n",
    "        progress_bar = tqdm(train_loader, desc=f\"Epoch {epoch+1}/{epochs} [Training]\")\n",
    "        for batch in progress_bar:\n",
    "            if batch['input_ids'].size(0) == 0:\n",
    "                continue\n",
    "\n",
    "            train_batches += 1\n",
    "            optimizer.zero_grad()\n",
    "\n",
    "            input_ids = batch['input_ids'].to(device)\n",
    "            attention_mask = batch['attention_mask'].to(device)\n",
    "            labels = batch['labels'].to(device)\n",
    "\n",
    "            outputs = model(\n",
    "                input_ids=input_ids,\n",
    "                attention_mask=attention_mask,\n",
    "                labels=labels\n",
    "            )\n",
    "\n",
    "            loss = outputs['loss']\n",
    "            loss.backward()\n",
    "            torch.nn.utils.clip_grad_norm_(model.parameters(), 1.0)\n",
    "            optimizer.step()\n",
    "            scheduler.step()\n",
    "\n",
    "            train_loss += loss.item()\n",
    "            progress_bar.set_postfix({\"loss\": f\"{loss.item():.4f}\"})\n",
    "\n",
    "        avg_train_loss = train_loss / train_batches if train_batches > 0 else 0\n",
    "        print(f\"Average training loss: {avg_train_loss:.4f}\")\n",
    "\n",
    "        # Evaluation\n",
    "        print(\"Evaluating...\")\n",
    "        metrics = evaluate(model, val_loader, tokenizer, device)\n",
    "\n",
    "        # Store metrics\n",
    "        results['epoch'].append(epoch + 1)\n",
    "        results['train_loss'].append(avg_train_loss)\n",
    "        results['val_loss'].append(metrics['val_loss'])\n",
    "        results['precision'].append(metrics['precision'])\n",
    "        results['recall'].append(metrics['recall'])\n",
    "        results['f1'].append(metrics['f1'])\n",
    "\n",
    "        # Print metrics\n",
    "        print(f\"Epoch {epoch+1}/{epochs}:\")\n",
    "        print(f\"  Train Loss: {avg_train_loss:.4f}\")\n",
    "        print(f\"  Val Loss: {metrics['val_loss']:.4f}\")\n",
    "        print(f\"  Precision: {metrics['precision']:.4f}\")\n",
    "        print(f\"  Recall: {metrics['recall']:.4f}\")\n",
    "        print(f\"  F1 Score: {metrics['f1']:.4f}\")\n",
    "\n",
    "        # Early stopping logic\n",
    "        if metrics['f1'] > best_f1:\n",
    "            best_f1 = metrics['f1']\n",
    "            best_epoch = epoch + 1\n",
    "            no_improve_epochs = 0\n",
    "            torch.save(model.state_dict(), model_save_path)\n",
    "            print(f\"New best model saved with F1: {best_f1:.4f}\")\n",
    "        else:\n",
    "            no_improve_epochs += 1\n",
    "            print(f\"No improvement in F1 for {no_improve_epochs} epoch(s).\")\n",
    "\n",
    "            if no_improve_epochs >= patience:\n",
    "                print(f\"Early stopping triggered after {epoch + 1} epochs.\")\n",
    "                break\n",
    "\n",
    "    # Save metrics to CSV\n",
    "    results_df = pd.DataFrame(results)\n",
    "    results_df.to_csv(results_save_path, index=False)\n",
    "    print(f\"Results saved to {results_save_path}\")\n",
    "\n",
    "    # Plot results\n",
    "    plt.figure(figsize=(12, 10))\n",
    "\n",
    "    # Plot losses\n",
    "    plt.subplot(2, 1, 1)\n",
    "    plt.plot(results['epoch'], results['train_loss'], 'b-', marker='o', label='Training Loss')\n",
    "    plt.plot(results['epoch'], results['val_loss'], 'r-', marker='o', label='Validation Loss')\n",
    "    plt.axvline(x=best_epoch, color='g', linestyle='--', label=f'Best Model (Epoch {best_epoch})')\n",
    "    plt.title('Training and Validation Loss')\n",
    "    plt.xlabel('Epoch')\n",
    "    plt.ylabel('Loss')\n",
    "    plt.grid(True)\n",
    "    plt.legend()\n",
    "\n",
    "    # Plot metrics\n",
    "    plt.subplot(2, 1, 2)\n",
    "    plt.plot(results['epoch'], results['precision'], 'g-', marker='o', label='Precision')\n",
    "    plt.plot(results['epoch'], results['recall'], 'b-', marker='o', label='Recall')\n",
    "    plt.plot(results['epoch'], results['f1'], 'r-', marker='o', label='F1 Score')\n",
    "    plt.axvline(x=best_epoch, color='g', linestyle='--', label=f'Best Model (Epoch {best_epoch})')\n",
    "    plt.title('Model Metrics')\n",
    "    plt.xlabel('Epoch')\n",
    "    plt.ylabel('Score')\n",
    "    plt.grid(True)\n",
    "    plt.legend()\n",
    "\n",
    "    plt.tight_layout()\n",
    "    plt.savefig(fig_save_path)\n",
    "    print(f\"Plot saved to {fig_save_path}\")\n",
    "    plt.show()\n",
    "\n",
    "    # Load best model for predictions\n",
    "    best_model = XLMRobertaForIdiomDetection(model_name=\"xlm-roberta-large\", num_labels=3)\n",
    "    best_model.load_state_dict(torch.load(model_save_path))\n",
    "    best_model.to(device)\n",
    "\n",
    "    # Make predictions\n",
    "    prediction_file = os.path.join(PROJECT_DIR, \"Models/results\", f\"{experiment_name}_predictions.csv\")\n",
    "    generate_predictions(best_model, tokenizer, device, prediction_file)\n",
    "\n",
    "    return {\n",
    "        'model_path': model_save_path,\n",
    "        'results_path': results_save_path,\n",
    "        'fig_path': fig_save_path,\n",
    "        'best_f1': best_f1,\n",
    "        'best_epoch': best_epoch,\n",
    "        'final_metrics': {\n",
    "            'precision': results['precision'][-1],\n",
    "            'recall': results['recall'][-1],\n",
    "            'f1': results['f1'][-1]\n",
    "        }\n",
    "    }\n"
   ]
  },
  {
   "cell_type": "code",
   "execution_count": 6,
   "metadata": {
    "executionInfo": {
     "elapsed": 15,
     "status": "ok",
     "timestamp": 1747581674283,
     "user": {
      "displayName": "Ahmet Enes Topçu",
      "userId": "09118054627552583776"
     },
     "user_tz": -180
    },
    "id": "bOu8X6-rEeoR",
    "vscode": {
     "languageId": "plaintext"
    }
   },
   "outputs": [],
   "source": [
    "def generate_predictions(model, tokenizer, device, output_file):\n",
    "    print(\"Generating predictions...\")\n",
    "    model.eval()\n",
    "\n",
    "    # Read test data\n",
    "    test_df = pd.read_csv(os.path.join(DATA_DIR, 'test_w_o_labels.csv'))\n",
    "    ids = test_df['id'].tolist()\n",
    "    languages = test_df['language'].tolist()\n",
    "    sentences = test_df['sentence'].tolist()\n",
    "\n",
    "    # Generate predictions\n",
    "    results = []\n",
    "    for idx, sentence, lang in tqdm(zip(ids, sentences, languages), total=len(ids)):\n",
    "        _, idiom_indices = predict_idioms(model, tokenizer, sentence, device)\n",
    "        # If no idiom, output [-1] as in training\n",
    "        if not idiom_indices:\n",
    "            idiom_indices = [-1]\n",
    "        results.append({'id': idx, 'indices': str(idiom_indices), 'language': lang})\n",
    "\n",
    "    # Save predictions\n",
    "    out_df = pd.DataFrame(results)\n",
    "    out_df.to_csv(output_file, index=False)\n",
    "    print(f'Predictions saved to {output_file}')\n",
    "\n",
    "    return out_df"
   ]
  },
  {
   "cell_type": "code",
   "execution_count": 8,
   "metadata": {
    "colab": {
     "base_uri": "https://localhost:8080/",
     "height": 1000
    },
    "executionInfo": {
     "elapsed": 3093474,
     "status": "ok",
     "timestamp": 1747584932024,
     "user": {
      "displayName": "Ahmet Enes Topçu",
      "userId": "09118054627552583776"
     },
     "user_tz": -180
    },
    "id": "KXON-skshnGd",
    "outputId": "bde0b3d2-7c0e-4806-f2dc-b7407df97e82"
   },
   "outputs": [
    {
     "name": "stdout",
     "output_type": "stream",
     "text": [
      "\n",
      "Running experiment: xlm_bs16_lr3e-05_ml128_ep15\n",
      "Loading data...\n"
     ]
    },
    {
     "name": "stderr",
     "output_type": "stream",
     "text": [
      "Epoch 1/15 [Training]: 100%|██████████| 720/720 [09:29<00:00,  1.26it/s, loss=3.3083]\n"
     ]
    },
    {
     "name": "stdout",
     "output_type": "stream",
     "text": [
      "Average training loss: 5.7237\n",
      "Evaluating...\n"
     ]
    },
    {
     "name": "stderr",
     "output_type": "stream",
     "text": [
      "Evaluating: 100%|██████████| 90/90 [00:30<00:00,  2.91it/s]\n"
     ]
    },
    {
     "name": "stdout",
     "output_type": "stream",
     "text": [
      "Epoch 1/15:\n",
      "  Train Loss: 5.7237\n",
      "  Val Loss: 2.7993\n",
      "  Precision: 0.4358\n",
      "  Recall: 0.4444\n",
      "  F1 Score: 0.4326\n",
      "New best model saved with F1: 0.4326\n"
     ]
    },
    {
     "name": "stderr",
     "output_type": "stream",
     "text": [
      "Epoch 2/15 [Training]: 100%|██████████| 720/720 [09:31<00:00,  1.26it/s, loss=1.7791]\n"
     ]
    },
    {
     "name": "stdout",
     "output_type": "stream",
     "text": [
      "Average training loss: 2.7157\n",
      "Evaluating...\n"
     ]
    },
    {
     "name": "stderr",
     "output_type": "stream",
     "text": [
      "Evaluating: 100%|██████████| 90/90 [00:31<00:00,  2.90it/s]\n"
     ]
    },
    {
     "name": "stdout",
     "output_type": "stream",
     "text": [
      "Epoch 2/15:\n",
      "  Train Loss: 2.7157\n",
      "  Val Loss: 1.9921\n",
      "  Precision: 0.4211\n",
      "  Recall: 0.4109\n",
      "  F1 Score: 0.4116\n",
      "No improvement in F1 for 1 epoch(s).\n"
     ]
    },
    {
     "name": "stderr",
     "output_type": "stream",
     "text": [
      "Epoch 3/15 [Training]: 100%|██████████| 720/720 [09:31<00:00,  1.26it/s, loss=1.9716]\n"
     ]
    },
    {
     "name": "stdout",
     "output_type": "stream",
     "text": [
      "Average training loss: 1.8954\n",
      "Evaluating...\n"
     ]
    },
    {
     "name": "stderr",
     "output_type": "stream",
     "text": [
      "Evaluating: 100%|██████████| 90/90 [00:31<00:00,  2.88it/s]\n"
     ]
    },
    {
     "name": "stdout",
     "output_type": "stream",
     "text": [
      "Epoch 3/15:\n",
      "  Train Loss: 1.8954\n",
      "  Val Loss: 1.9020\n",
      "  Precision: 0.4830\n",
      "  Recall: 0.4891\n",
      "  F1 Score: 0.4837\n",
      "New best model saved with F1: 0.4837\n"
     ]
    },
    {
     "name": "stderr",
     "output_type": "stream",
     "text": [
      "Epoch 4/15 [Training]: 100%|██████████| 720/720 [09:31<00:00,  1.26it/s, loss=0.3203]\n"
     ]
    },
    {
     "name": "stdout",
     "output_type": "stream",
     "text": [
      "Average training loss: 1.5215\n",
      "Evaluating...\n"
     ]
    },
    {
     "name": "stderr",
     "output_type": "stream",
     "text": [
      "Evaluating: 100%|██████████| 90/90 [00:30<00:00,  2.90it/s]\n"
     ]
    },
    {
     "name": "stdout",
     "output_type": "stream",
     "text": [
      "Epoch 4/15:\n",
      "  Train Loss: 1.5215\n",
      "  Val Loss: 1.3229\n",
      "  Precision: 0.4661\n",
      "  Recall: 0.4642\n",
      "  F1 Score: 0.4634\n",
      "No improvement in F1 for 1 epoch(s).\n"
     ]
    },
    {
     "name": "stderr",
     "output_type": "stream",
     "text": [
      "Epoch 5/15 [Training]: 100%|██████████| 720/720 [09:31<00:00,  1.26it/s, loss=7.8775]\n"
     ]
    },
    {
     "name": "stdout",
     "output_type": "stream",
     "text": [
      "Average training loss: 1.3050\n",
      "Evaluating...\n"
     ]
    },
    {
     "name": "stderr",
     "output_type": "stream",
     "text": [
      "Evaluating: 100%|██████████| 90/90 [00:31<00:00,  2.89it/s]\n"
     ]
    },
    {
     "name": "stdout",
     "output_type": "stream",
     "text": [
      "Epoch 5/15:\n",
      "  Train Loss: 1.3050\n",
      "  Val Loss: 1.9404\n",
      "  Precision: 0.4579\n",
      "  Recall: 0.4567\n",
      "  F1 Score: 0.4562\n",
      "No improvement in F1 for 2 epoch(s).\n",
      "Early stopping triggered after 5 epochs.\n",
      "Results saved to /content/drive/MyDrive/Colab Notebooks/nlp_f1_cleaned/Models/results/xlm_bs16_lr3e-05_ml128_ep15_metrics.csv\n",
      "Plot saved to /content/drive/MyDrive/Colab Notebooks/nlp_f1_cleaned/Models/results/xlm_bs16_lr3e-05_ml128_ep15_plot.png\n"
     ]
    },
    {
     "data": {
      "image/png": "[encoded data removed]",
      "text/plain": [
       "<Figure size 1200x1000 with 2 Axes>"
      ]
     },
     "metadata": {},
     "output_type": "display_data"
    },
    {
     "name": "stdout",
     "output_type": "stream",
     "text": [
      "Generating predictions...\n"
     ]
    },
    {
     "name": "stderr",
     "output_type": "stream",
     "text": [
      "100%|██████████| 1435/1435 [00:56<00:00, 25.51it/s]\n"
     ]
    },
    {
     "name": "stdout",
     "output_type": "stream",
     "text": [
      "Predictions saved to /content/drive/MyDrive/Colab Notebooks/nlp_f1_cleaned/Models/results/xlm_bs16_lr3e-05_ml128_ep15_predictions.csv\n",
      "\n",
      "Experiment complete!\n",
      "Best F1 Score: 0.4837 (Epoch 3)\n",
      "Model saved to: /content/drive/MyDrive/Colab Notebooks/nlp_f1_cleaned/Models/saved_models/xlm_bs16_lr3e-05_ml128_ep15.pt\n",
      "Metrics saved to: /content/drive/MyDrive/Colab Notebooks/nlp_f1_cleaned/Models/results/xlm_bs16_lr3e-05_ml128_ep15_metrics.csv\n",
      "Plot saved to: /content/drive/MyDrive/Colab Notebooks/nlp_f1_cleaned/Models/results/xlm_bs16_lr3e-05_ml128_ep15_plot.png\n"
     ]
    }
   ],
   "source": [
    "# Run a single experiment with desired parameters\n",
    "result = run_organized_experiment(batch_size=16, lr=3e-05, max_length=128, epochs=15)\n",
    "\n",
    "print(\"\\nExperiment complete!\")\n",
    "print(f\"Best F1 Score: {result['best_f1']:.4f} (Epoch {result['best_epoch']})\")\n",
    "print(f\"Model saved to: {result['model_path']}\")\n",
    "print(f\"Metrics saved to: {result['results_path']}\")\n",
    "print(f\"Plot saved to: {result['fig_path']}\")"
   ]
  },
  {
   "cell_type": "markdown",
   "metadata": {
    "id": "Ti-sjf16_JoZ"
   },
   "source": [
    "# If you want to make prediction from saved model"
   ]
  },
  {
   "cell_type": "code",
   "execution_count": 9,
   "metadata": {
    "colab": {
     "base_uri": "https://localhost:8080/"
    },
    "executionInfo": {
     "elapsed": 62829,
     "status": "ok",
     "timestamp": 1747585086152,
     "user": {
      "displayName": "Ahmet Enes Topçu",
      "userId": "09118054627552583776"
     },
     "user_tz": -180
    },
    "id": "2zioxo-ma6Gs",
    "outputId": "7134a0c9-7f53-4061-b294-a0c9bda3f302"
   },
   "outputs": [
    {
     "name": "stdout",
     "output_type": "stream",
     "text": [
      "Generating predictions...\n"
     ]
    },
    {
     "name": "stderr",
     "output_type": "stream",
     "text": [
      "100%|██████████| 1435/1435 [00:54<00:00, 26.10it/s]"
     ]
    },
    {
     "name": "stdout",
     "output_type": "stream",
     "text": [
      "Predictions saved to /content/drive/MyDrive/Colab Notebooks/nlp_f1_cleaned/Models/results/predictions.csv\n"
     ]
    },
    {
     "name": "stderr",
     "output_type": "stream",
     "text": [
      "\n"
     ]
    }
   ],
   "source": [
    "import os\n",
    "import torch\n",
    "import pandas as pd\n",
    "from transformers import XLMRobertaTokenizer\n",
    "\n",
    "# Set device\n",
    "device = torch.device(\"cuda\" if torch.cuda.is_available() else \"cpu\")\n",
    "\n",
    "# Paths\n",
    "MODEL_PATH = \"/content/drive/MyDrive/Colab Notebooks/nlp_f1_cleaned/Models/saved_models/xlm_bs16_lr3e-05_ml128_ep15.pt\"\n",
    "DATA_DIR = \"/content/drive/MyDrive/Colab Notebooks/nlp_f1_cleaned/dataset\"\n",
    "OUTPUT_FILE = \"/content/drive/MyDrive/Colab Notebooks/nlp_f1_cleaned/Models/results/predictions.csv\"\n",
    "\n",
    "# Load tokenizer\n",
    "tokenizer = XLMRobertaTokenizer.from_pretrained(\"xlm-roberta-large\")\n",
    "\n",
    "# Load your model class from the Python file\n",
    "import sys\n",
    "sys.path.append(\"/content/drive/MyDrive/Colab Notebooks/nlp_f1_cleaned/Models\")\n",
    "\n",
    "from xlm_roberta_improved import XLMRobertaForIdiomDetection, predict_idioms\n",
    "\n",
    "# Instantiate the model and load weights\n",
    "model = XLMRobertaForIdiomDetection(model_name=\"xlm-roberta-large\", num_labels=3)\n",
    "model.load_state_dict(torch.load(MODEL_PATH, map_location=device))\n",
    "model.to(device)\n",
    "model.eval()\n",
    "\n",
    "def generate_predictions(model, tokenizer, device, output_file):\n",
    "    print(\"Generating predictions...\")\n",
    "    model.eval()\n",
    "\n",
    "    # Read test data\n",
    "    test_df = pd.read_csv(os.path.join(DATA_DIR, 'test_w_o_labels.csv'))\n",
    "    ids = test_df['id'].tolist()\n",
    "    languages = test_df['language'].tolist()\n",
    "    sentences = test_df['sentence'].tolist()\n",
    "\n",
    "    # Generate predictions\n",
    "    results = []\n",
    "    for idx, sentence, lang in tqdm(zip(ids, sentences, languages), total=len(ids)):\n",
    "        _, idiom_indices = predict_idioms(model, tokenizer, sentence, device)\n",
    "        if not idiom_indices:\n",
    "            idiom_indices = [-1]\n",
    "        results.append({'id': idx, 'indices': str(idiom_indices), 'language': lang})\n",
    "\n",
    "    out_df = pd.DataFrame(results)\n",
    "    out_df.to_csv(output_file, index=False)\n",
    "    print(f'Predictions saved to {output_file}')\n",
    "    return out_df\n",
    "\n",
    "# Run prediction\n",
    "predictions_df = generate_predictions(model, tokenizer, device, OUTPUT_FILE)\n"
   ]
  },
  {
   "cell_type": "markdown",
   "metadata": {
    "id": "NAbK24-lLPVC"
   },
   "source": [
    "# Test single example with saved last best model"
   ]
  },
  {
   "cell_type": "code",
   "execution_count": 14,
   "metadata": {
    "colab": {
     "base_uri": "https://localhost:8080/"
    },
    "executionInfo": {
     "elapsed": 8003,
     "status": "ok",
     "timestamp": 1747585295661,
     "user": {
      "displayName": "Ahmet Enes Topçu",
      "userId": "09118054627552583776"
     },
     "user_tz": -180
    },
    "id": "_7vZ4K-5EeoS",
    "outputId": "7ef5bea3-b5f1-429f-d541-023683518f0f",
    "vscode": {
     "languageId": "plaintext"
    }
   },
   "outputs": [
    {
     "name": "stdout",
     "output_type": "stream",
     "text": [
      "Sentence: Zaman öldürmek, bir tür cinayettir, Zamanınızı öldürmeyin; zamanınızı doldurun, Kıymetini bilerek zamanınızı değerlendirin.\n",
      "Detected Idiom Indices: [0, 1, 5, 6]\n",
      "Idiom Words: Zaman öldürmek, Zamanınızı öldürmeyin;\n"
     ]
    }
   ],
   "source": [
    "def test_single_example():\n",
    "    import torch\n",
    "    from transformers import XLMRobertaTokenizer\n",
    "    from Models.xlm_roberta_improved import XLMRobertaForIdiomDetection, predict_idioms\n",
    "\n",
    "    device = torch.device('cuda' if torch.cuda.is_available() else 'cpu')\n",
    "    MODEL_PATH = \"/content/drive/MyDrive/Colab Notebooks/nlp_f1_cleaned/Models/saved_models/xlm_bs16_lr3e-05_ml128_ep15.pt\"\n",
    "    tokenizer = XLMRobertaTokenizer.from_pretrained(\"xlm-roberta-large\")\n",
    "\n",
    "    # Load the model\n",
    "    model = XLMRobertaForIdiomDetection(model_name=\"xlm-roberta-large\", num_labels=3)\n",
    "    model.load_state_dict(torch.load(MODEL_PATH, map_location=device))\n",
    "    model.to(device)\n",
    "    model.eval()\n",
    "\n",
    "    # Example input sentence\n",
    "    sentence = \"Zaman öldürmek, bir tür cinayettir, Zamanınızı öldürmeyin; zamanınızı doldurun, Kıymetini bilerek zamanınızı değerlendirin.\"\n",
    "\n",
    "    # Predict\n",
    "    _, idiom_indices = predict_idioms(model, tokenizer, sentence, device)\n",
    "\n",
    "    # Output\n",
    "    print(\"Sentence:\", sentence)\n",
    "    print(\"Detected Idiom Indices:\", idiom_indices)\n",
    "\n",
    "    # Display idiom words if they are detected\n",
    "    if idiom_indices and idiom_indices != [-1]:\n",
    "        words = sentence.split()\n",
    "        try:\n",
    "            idiom_words = [words[idx] for idx in idiom_indices if 0 <= idx < len(words)]\n",
    "            print(\"Idiom Words:\", \" \".join(idiom_words))\n",
    "        except IndexError:\n",
    "            print(\"Warning: Index out of range. Check tokenization alignment.\")\n",
    "    else:\n",
    "        print(\"No idiom detected.\")\n",
    "\n",
    "test_single_example()\n"
   ]
  },
  {
   "cell_type": "code",
   "execution_count": 17,
   "metadata": {
    "colab": {
     "base_uri": "https://localhost:8080/"
    },
    "executionInfo": {
     "elapsed": 7594,
     "status": "ok",
     "timestamp": 1747585446876,
     "user": {
      "displayName": "Ahmet Enes Topçu",
      "userId": "09118054627552583776"
     },
     "user_tz": -180
    },
    "id": "xY3ipGw7n-fi",
    "outputId": "7bf71760-7493-4fdf-fd2e-cb19c78aa30d"
   },
   "outputs": [
    {
     "name": "stdout",
     "output_type": "stream",
     "text": [
      "Sentence: Çocuk yolda el açtı.\n",
      "Detected Idiom Indices: [2, 3]\n",
      "Idiom Words: el açtı.\n"
     ]
    }
   ],
   "source": [
    "def test_single_example():\n",
    "    import torch\n",
    "    from transformers import XLMRobertaTokenizer\n",
    "    from Models.xlm_roberta_improved import XLMRobertaForIdiomDetection, predict_idioms\n",
    "\n",
    "    device = torch.device('cuda' if torch.cuda.is_available() else 'cpu')\n",
    "    MODEL_PATH = \"/content/drive/MyDrive/Colab Notebooks/nlp_f1_cleaned/Models/saved_models/xlm_bs16_lr3e-05_ml128_ep15.pt\"\n",
    "    tokenizer = XLMRobertaTokenizer.from_pretrained(\"xlm-roberta-large\")\n",
    "\n",
    "    # Load the trained model\n",
    "    model = XLMRobertaForIdiomDetection(model_name=\"xlm-roberta-large\", num_labels=3)\n",
    "    model.load_state_dict(torch.load(MODEL_PATH, map_location=device))\n",
    "    model.to(device)\n",
    "    model.eval()\n",
    "\n",
    "    # Example input sentence\n",
    "    sentence = \"Çocuk yolda el açtı.\"\n",
    "\n",
    "    # Predict\n",
    "    _, idiom_indices = predict_idioms(model, tokenizer, sentence, device)\n",
    "\n",
    "    # Output\n",
    "    print(\"Sentence:\", sentence)\n",
    "    print(\"Detected Idiom Indices:\", idiom_indices)\n",
    "\n",
    "    # Display idiom words if theya are detected\n",
    "    if idiom_indices and idiom_indices != [-1]:\n",
    "        words = sentence.split()\n",
    "        try:\n",
    "            idiom_words = [words[idx] for idx in idiom_indices if 0 <= idx < len(words)]\n",
    "            print(\"Idiom Words:\", \" \".join(idiom_words))\n",
    "        except IndexError:\n",
    "            print(\"Warning: Index out of range. Check tokenization alignment.\")\n",
    "    else:\n",
    "        print(\"No idiom detected.\")\n",
    "\n",
    "test_single_example()"
   ]
  },
  {
   "cell_type": "code",
   "execution_count": null,
   "metadata": {
    "id": "1t6zGooJNI79"
   },
   "outputs": [],
   "source": []
  }
 ],
 "metadata": {
  "accelerator": "GPU",
  "colab": {
   "gpuType": "L4",
   "provenance": []
  },
  "kernelspec": {
   "display_name": "Python 3",
   "name": "python3"
  },
  "language_info": {
   "name": "python"
  }
 },
 "nbformat": 4,
 "nbformat_minor": 0
}

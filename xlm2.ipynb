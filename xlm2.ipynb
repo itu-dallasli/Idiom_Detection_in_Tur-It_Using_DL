{
 "cells": [
  {
   "cell_type": "code",
   "execution_count": null,
   "id": "6957f9e2",
   "metadata": {
    "vscode": {
     "languageId": "plaintext"
    }
   },
   "outputs": [],
   "source": [
    "import os\n",
    "import torch\n",
    "import torch.nn as nn\n",
    "from transformers import XLMRobertaTokenizer, XLMRobertaModel\n",
    "from torch.utils.data import DataLoader\n",
    "from dataset import IdiomDataset, preprocess_data\n",
    "import pandas as pd\n",
    "from tqdm import tqdm\n",
    "import numpy as np"
   ]
  },
  {
   "cell_type": "code",
   "execution_count": null,
   "id": "85aeb254",
   "metadata": {
    "vscode": {
     "languageId": "plaintext"
    }
   },
   "outputs": [],
   "source": [
    "# Config\n",
    "MAX_LEN = 128\n",
    "BATCH_SIZE = 8\n",
    "EPOCHS = 3\n",
    "MODEL_NAME = \"xlm-roberta-base\"\n",
    "DEVICE = torch.device(\"cuda\" if torch.cuda.is_available() else \"cpu\")\n",
    "\n",
    "# Load tokenizer\n",
    "tokenizer = XLMRobertaTokenizer.from_pretrained(MODEL_NAME)\n",
    "\n",
    "# Load training data\n",
    "train_df = pd.read_csv(\"dataset/train.csv\")\n",
    "val_df = pd.read_csv(\"dataset/eval.csv\")\n",
    "\n",
    "train_inputs, train_labels = preprocess_data(train_df, tokenizer)\n",
    "val_inputs, val_labels = preprocess_data(val_df, tokenizer)\n",
    "\n",
    "train_dataset = IdiomDataset(train_inputs, train_labels, tokenizer, MAX_LEN)\n",
    "val_dataset = IdiomDataset(val_inputs, val_labels, tokenizer, MAX_LEN)\n",
    "\n",
    "train_loader = DataLoader(train_dataset, batch_size=BATCH_SIZE, shuffle=True)\n",
    "val_loader = DataLoader(val_dataset, batch_size=BATCH_SIZE)"
   ]
  },
  {
   "cell_type": "code",
   "execution_count": null,
   "id": "49935e2c",
   "metadata": {
    "vscode": {
     "languageId": "plaintext"
    }
   },
   "outputs": [],
   "source": [
    "# Model\n",
    "class IdiomModel(nn.Module):\n",
    "    def __init__(self):\n",
    "        super(IdiomModel, self).__init__()\n",
    "        self.roberta = XLMRobertaModel.from_pretrained(MODEL_NAME)\n",
    "        self.dropout = nn.Dropout(0.1)\n",
    "        self.classifier = nn.Linear(self.roberta.config.hidden_size, 3)  # 3 classes: O, B, I\n",
    "\n",
    "    def forward(self, input_ids, attention_mask):\n",
    "        outputs = self.roberta(input_ids=input_ids, attention_mask=attention_mask)\n",
    "        sequence_output = self.dropout(outputs.last_hidden_state)\n",
    "        return self.classifier(sequence_output)\n",
    "\n",
    "model = IdiomModel().to(DEVICE)\n",
    "optimizer = torch.optim.AdamW(model.parameters(), lr=2e-5)\n",
    "loss_fn = nn.CrossEntropyLoss(ignore_index=0)"
   ]
  },
  {
   "cell_type": "code",
   "execution_count": null,
   "id": "158fb01a",
   "metadata": {
    "vscode": {
     "languageId": "plaintext"
    }
   },
   "outputs": [],
   "source": [
    "# Training loop\n",
    "def train():\n",
    "    model.train()\n",
    "    for epoch in range(EPOCHS):\n",
    "        total_loss = 0\n",
    "        for batch in tqdm(train_loader, desc=f\"Epoch {epoch+1}\"):\n",
    "            input_ids = batch[\"input_ids\"].to(DEVICE)\n",
    "            attention_mask = batch[\"attention_mask\"].to(DEVICE)\n",
    "            labels = batch[\"labels\"].to(DEVICE)\n",
    "\n",
    "            outputs = model(input_ids, attention_mask)\n",
    "            loss = loss_fn(outputs.view(-1, 3), labels.view(-1))\n",
    "\n",
    "            loss.backward()\n",
    "            optimizer.step()\n",
    "            optimizer.zero_grad()\n",
    "\n",
    "            total_loss += loss.item()\n",
    "        print(f\"Epoch {epoch+1} Loss: {total_loss/len(train_loader):.4f}\")"
   ]
  },
  {
   "cell_type": "code",
   "execution_count": null,
   "id": "0a043f50",
   "metadata": {
    "vscode": {
     "languageId": "plaintext"
    }
   },
   "outputs": [],
   "source": [
    "# Inference function to generate predictions\n",
    "def predict_and_save():\n",
    "    model.eval()\n",
    "    test_df = pd.read_csv(\"dataset/eval_w_o_labels.csv\")\n",
    "\n",
    "    all_preds = []\n",
    "    ids = test_df[\"id\"].tolist()\n",
    "    langs = test_df[\"language\"].tolist()\n",
    "\n",
    "    inputs, _ = preprocess_data(test_df, tokenizer)\n",
    "    test_dataset = IdiomDataset(inputs, [[0]*len(x) for x in inputs], tokenizer, MAX_LEN)\n",
    "    test_loader = DataLoader(test_dataset, batch_size=1)\n",
    "\n",
    "    for i, batch in enumerate(tqdm(test_loader, desc=\"Predicting\")):\n",
    "        input_ids = batch[\"input_ids\"].to(DEVICE)\n",
    "        attention_mask = batch[\"attention_mask\"].to(DEVICE)\n",
    "\n",
    "        with torch.no_grad():\n",
    "            outputs = model(input_ids, attention_mask)\n",
    "            preds = torch.argmax(outputs, dim=-1).squeeze().cpu().tolist()\n",
    "            mask = batch[\"attention_mask\"].squeeze().cpu().tolist()\n",
    "\n",
    "        # Skip [CLS], [SEP], and padding (only keep non-zero mask positions)\n",
    "        valid_preds = [p for p, m in zip(preds, mask) if m != 0][1:-1]\n",
    "\n",
    "        indices = [i for i, label in enumerate(valid_preds) if label in [1, 2]]\n",
    "        if not indices:\n",
    "            indices = [-1]\n",
    "\n",
    "        all_preds.append(indices)\n",
    "\n",
    "    # Save to prediction.csv\n",
    "    output_df = pd.DataFrame({\n",
    "        \"id\": ids,\n",
    "        \"indices\": [str(x) for x in all_preds],\n",
    "        \"language\": langs\n",
    "    })\n",
    "\n",
    "    os.makedirs(\"app/input/res\", exist_ok=True)\n",
    "    output_df.to_csv(\"app/input/res/prediction.csv\", index=False)\n",
    "    print(\"Predictions saved to app/input/res/prediction.csv\")"
   ]
  },
  {
   "cell_type": "code",
   "execution_count": null,
   "id": "78842e9b",
   "metadata": {
    "vscode": {
     "languageId": "plaintext"
    }
   },
   "outputs": [],
   "source": [
    "if __name__ == \"__main__\":\n",
    "    train()\n",
    "    predict_and_save()"
   ]
  },
  {
   "cell_type": "code",
   "execution_count": null,
   "id": "ed456e42",
   "metadata": {
    "vscode": {
     "languageId": "plaintext"
    }
   },
   "outputs": [],
   "source": []
  }
 ],
 "metadata": {
  "language_info": {
   "name": "python"
  }
 },
 "nbformat": 4,
 "nbformat_minor": 5
}
